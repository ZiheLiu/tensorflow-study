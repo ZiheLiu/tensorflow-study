{
 "cells": [
  {
   "cell_type": "code",
   "execution_count": 1,
   "metadata": {},
   "outputs": [
    {
     "name": "stderr",
     "output_type": "stream",
     "text": [
      "/Users/liuzihe/anaconda3/lib/python3.6/site-packages/h5py/__init__.py:36: FutureWarning: Conversion of the second argument of issubdtype from `float` to `np.floating` is deprecated. In future, it will be treated as `np.float64 == np.dtype(float).type`.\n",
      "  from ._conv import register_converters as _register_converters\n"
     ]
    },
    {
     "name": "stdout",
     "output_type": "stream",
     "text": [
      "WARNING:tensorflow:From /Users/liuzihe/anaconda3/lib/python3.6/site-packages/tensorflow/contrib/learn/python/learn/datasets/base.py:198: retry (from tensorflow.contrib.learn.python.learn.datasets.base) is deprecated and will be removed in a future version.\n",
      "Instructions for updating:\n",
      "Use the retry module or similar alternatives.\n"
     ]
    }
   ],
   "source": [
    "import tensorflow as tf\n",
    "from tensorflow.examples.tutorials.mnist import input_data "
   ]
  },
  {
   "cell_type": "code",
   "execution_count": 2,
   "metadata": {},
   "outputs": [
    {
     "name": "stdout",
     "output_type": "stream",
     "text": [
      "WARNING:tensorflow:From <ipython-input-2-a02352932885>:1: read_data_sets (from tensorflow.contrib.learn.python.learn.datasets.mnist) is deprecated and will be removed in a future version.\n",
      "Instructions for updating:\n",
      "Please use alternatives such as official/mnist/dataset.py from tensorflow/models.\n",
      "WARNING:tensorflow:From /Users/liuzihe/anaconda3/lib/python3.6/site-packages/tensorflow/contrib/learn/python/learn/datasets/mnist.py:260: maybe_download (from tensorflow.contrib.learn.python.learn.datasets.base) is deprecated and will be removed in a future version.\n",
      "Instructions for updating:\n",
      "Please write your own downloading logic.\n",
      "WARNING:tensorflow:From /Users/liuzihe/anaconda3/lib/python3.6/site-packages/tensorflow/contrib/learn/python/learn/datasets/mnist.py:262: extract_images (from tensorflow.contrib.learn.python.learn.datasets.mnist) is deprecated and will be removed in a future version.\n",
      "Instructions for updating:\n",
      "Please use tf.data to implement this functionality.\n",
      "Extracting static/data/mnist/train-images-idx3-ubyte.gz\n",
      "WARNING:tensorflow:From /Users/liuzihe/anaconda3/lib/python3.6/site-packages/tensorflow/contrib/learn/python/learn/datasets/mnist.py:267: extract_labels (from tensorflow.contrib.learn.python.learn.datasets.mnist) is deprecated and will be removed in a future version.\n",
      "Instructions for updating:\n",
      "Please use tf.data to implement this functionality.\n",
      "Extracting static/data/mnist/train-labels-idx1-ubyte.gz\n",
      "WARNING:tensorflow:From /Users/liuzihe/anaconda3/lib/python3.6/site-packages/tensorflow/contrib/learn/python/learn/datasets/mnist.py:110: dense_to_one_hot (from tensorflow.contrib.learn.python.learn.datasets.mnist) is deprecated and will be removed in a future version.\n",
      "Instructions for updating:\n",
      "Please use tf.one_hot on tensors.\n",
      "Extracting static/data/mnist/t10k-images-idx3-ubyte.gz\n",
      "Extracting static/data/mnist/t10k-labels-idx1-ubyte.gz\n",
      "WARNING:tensorflow:From /Users/liuzihe/anaconda3/lib/python3.6/site-packages/tensorflow/contrib/learn/python/learn/datasets/mnist.py:290: DataSet.__init__ (from tensorflow.contrib.learn.python.learn.datasets.mnist) is deprecated and will be removed in a future version.\n",
      "Instructions for updating:\n",
      "Please use alternatives such as official/mnist/dataset.py from tensorflow/models.\n"
     ]
    }
   ],
   "source": [
    "mnist = input_data.read_data_sets('static/data/mnist', one_hot=True)"
   ]
  },
  {
   "cell_type": "code",
   "execution_count": 3,
   "metadata": {},
   "outputs": [],
   "source": [
    "# hyper params\n",
    "batch_size = 128\n",
    "learning_rate = 0.001\n",
    "epoch = 1\n",
    "\n",
    "batchs_sum = mnist.train.num_examples // batch_size"
   ]
  },
  {
   "cell_type": "code",
   "execution_count": 4,
   "metadata": {},
   "outputs": [],
   "source": [
    "# inputs\n",
    "with tf.name_scope('inputs'):\n",
    "    input_x = tf.placeholder(tf.float32, [None, 784], name='input_x')\n",
    "    input_y = tf.placeholder(tf.float32, [None, 10], name='input_y')\n",
    "    keep_prob = tf.placeholder(tf.float32, name='keep_prob')\n",
    "    lr = tf.Variable(0.001, dtype=tf.float32, name='lr')"
   ]
  },
  {
   "cell_type": "code",
   "execution_count": 5,
   "metadata": {},
   "outputs": [
    {
     "name": "stdout",
     "output_type": "stream",
     "text": [
      "WARNING:tensorflow:From <ipython-input-5-21ec82c7a4c5>:22: softmax_cross_entropy_with_logits (from tensorflow.python.ops.nn_ops) is deprecated and will be removed in a future version.\n",
      "Instructions for updating:\n",
      "\n",
      "Future major versions of TensorFlow will allow gradients to flow\n",
      "into the labels input on backprop by default.\n",
      "\n",
      "See tf.nn.softmax_cross_entropy_with_logits_v2.\n",
      "\n"
     ]
    }
   ],
   "source": [
    "# model\n",
    "with tf.name_scope('layers'):\n",
    "    with tf.name_scope('dense'):\n",
    "        weights1 = tf.Variable(tf.truncated_normal([784, 500], stddev=0.1), name='weights')\n",
    "        bias1 = tf.Variable(tf.zeros([1, 500]) + 0.1, name='bias')\n",
    "        hidden1 = tf.nn.tanh(tf.matmul(input_x, weights1) + bias1, name='hidden')\n",
    "        hidden1_drop = tf.nn.dropout(hidden1, keep_prob, name='hidden_drop')\n",
    "        \n",
    "    with tf.name_scope('dense1'):\n",
    "        weights2 = tf.Variable(tf.truncated_normal([500, 300], stddev=0.1), name='weights')\n",
    "        bias2 = tf.Variable(tf.zeros([1, 300]) + 0.1, name='bais')\n",
    "        hidden2 = tf.nn.tanh(tf.matmul(hidden1_drop, weights2) + bias2, name='hidden')\n",
    "        hidden2_drop = tf.nn.dropout(hidden2, keep_prob, name='hidden_drop')\n",
    "\n",
    "    with tf.name_scope('dense2'):\n",
    "        weights3 = tf.Variable(tf.truncated_normal([300, 10], stddev=0.1), name='weights')\n",
    "        bias3 = tf.Variable(tf.zeros([1, 10]) + 0.1, name='bias')\n",
    "        predictions = tf.nn.softmax(tf.matmul(hidden2_drop, weights3) + bias3, name='predictions')\n",
    "\n",
    "# loss = tf.reduce_mean(tf.square(input_y - predictions))\n",
    "with tf.name_scope('loss'):\n",
    "    loss = tf.reduce_mean(tf.nn.softmax_cross_entropy_with_logits(labels=input_y, logits=predictions), name='loss')\n",
    "with tf.name_scope('train_op'):\n",
    "    train_op = tf.train.AdamOptimizer(lr).minimize(loss)"
   ]
  },
  {
   "cell_type": "code",
   "execution_count": 6,
   "metadata": {},
   "outputs": [],
   "source": [
    "# accuracy\n",
    "init = tf.global_variables_initializer()\n",
    "with tf.name_scope('accuracy'):\n",
    "    correct_predictions = tf.equal(tf.argmax(input_y, 1), tf.argmax(predictions, 1))\n",
    "    accuracy = tf.reduce_mean(tf.cast(correct_predictions, tf.float32))"
   ]
  },
  {
   "cell_type": "code",
   "execution_count": 7,
   "metadata": {},
   "outputs": [
    {
     "name": "stdout",
     "output_type": "stream",
     "text": [
      "Epoch: 0, test_acc: 0.949500, train_acc: 0.952218, lr: 0.001000\n"
     ]
    }
   ],
   "source": [
    "with tf.Session() as sess:\n",
    "    sess.run(init)\n",
    "    writer = tf.summary.FileWriter('static/summary', sess.graph)\n",
    "    for epoch_i in range(epoch):\n",
    "        sess.run(tf.assign(lr, 0.001 * (0.95 ** epoch_i)))\n",
    "        for batch_i in range(batchs_sum):\n",
    "            batch_x, batch_y = mnist.train.next_batch(batch_size)\n",
    "            sess.run(train_op, {\n",
    "                input_x: batch_x, \n",
    "                input_y: batch_y,\n",
    "                keep_prob: 1.0\n",
    "            })\n",
    "        test_acc = sess.run(accuracy, {\n",
    "            input_x: mnist.test.images, \n",
    "            input_y: mnist.test.labels,\n",
    "            keep_prob: 1.0\n",
    "        })\n",
    "        train_acc = sess.run(accuracy, {\n",
    "            input_x: mnist.train.images, \n",
    "            input_y: mnist.train.labels,\n",
    "            keep_prob: 1.0\n",
    "        })\n",
    "        print(\"Epoch: %d, test_acc: %f, train_acc: %f, lr: %f\" % (epoch_i, test_acc, train_acc, sess.run(lr)))"
   ]
  },
  {
   "cell_type": "code",
   "execution_count": null,
   "metadata": {},
   "outputs": [],
   "source": []
  }
 ],
 "metadata": {
  "kernelspec": {
   "display_name": "Python 3",
   "language": "python",
   "name": "python3"
  },
  "language_info": {
   "codemirror_mode": {
    "name": "ipython",
    "version": 3
   },
   "file_extension": ".py",
   "mimetype": "text/x-python",
   "name": "python",
   "nbconvert_exporter": "python",
   "pygments_lexer": "ipython3",
   "version": "3.6.4"
  }
 },
 "nbformat": 4,
 "nbformat_minor": 2
}
